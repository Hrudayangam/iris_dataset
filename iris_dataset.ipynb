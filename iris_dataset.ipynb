{
  "nbformat": 4,
  "nbformat_minor": 0,
  "metadata": {
    "colab": {
      "name": "iris_dataset.ipynb",
      "provenance": [],
      "collapsed_sections": [],
      "authorship_tag": "ABX9TyNNb6hQgDOu5qu2N0yHx9Zk",
      "include_colab_link": true
    },
    "kernelspec": {
      "name": "python3",
      "display_name": "Python 3"
    },
    "language_info": {
      "name": "python"
    }
  },
  "cells": [
    {
      "cell_type": "markdown",
      "metadata": {
        "id": "view-in-github",
        "colab_type": "text"
      },
      "source": [
        "<a href=\"https://colab.research.google.com/github/Hrudayangam/iris_dataset/blob/main/iris_dataset.ipynb\" target=\"_parent\"><img src=\"https://colab.research.google.com/assets/colab-badge.svg\" alt=\"Open In Colab\"/></a>"
      ]
    },
    {
      "cell_type": "code",
      "metadata": {
        "id": "z5NVl0qZWwn9",
        "colab": {
          "base_uri": "https://localhost:8080/"
        },
        "outputId": "22d3fae8-60f5-485f-921d-678614c2c3df"
      },
      "source": [
        "import numpy as np\n",
        "import pandas as pd \n",
        "import seaborn as sns\n",
        "import matplotlib.pyplot as plt \n",
        "\n",
        "from subprocess import check_output\n",
        "\n",
        "print(check_output([\"ls\",\"../archive.zip\"]).decode(\"utf8\"))\n"
      ],
      "execution_count": 56,
      "outputs": [
        {
          "output_type": "stream",
          "text": [
            "../archive.zip\n",
            "\n"
          ],
          "name": "stdout"
        }
      ]
    },
    {
      "cell_type": "code",
      "metadata": {
        "colab": {
          "base_uri": "https://localhost:8080/",
          "height": 106
        },
        "id": "0vG2ZKq0rFN3",
        "outputId": "eca61163-b218-40f3-acf5-278f70237a6e"
      },
      "source": [
        "iris =  pd.read_csv(\"/Iris.csv\")\n",
        "iris.head(2) #displays the first two rows of dataset, with the title "
      ],
      "execution_count": 57,
      "outputs": [
        {
          "output_type": "execute_result",
          "data": {
            "text/html": [
              "<div>\n",
              "<style scoped>\n",
              "    .dataframe tbody tr th:only-of-type {\n",
              "        vertical-align: middle;\n",
              "    }\n",
              "\n",
              "    .dataframe tbody tr th {\n",
              "        vertical-align: top;\n",
              "    }\n",
              "\n",
              "    .dataframe thead th {\n",
              "        text-align: right;\n",
              "    }\n",
              "</style>\n",
              "<table border=\"1\" class=\"dataframe\">\n",
              "  <thead>\n",
              "    <tr style=\"text-align: right;\">\n",
              "      <th></th>\n",
              "      <th>Id</th>\n",
              "      <th>SepalLengthCm</th>\n",
              "      <th>SepalWidthCm</th>\n",
              "      <th>PetalLengthCm</th>\n",
              "      <th>PetalWidthCm</th>\n",
              "      <th>Species</th>\n",
              "    </tr>\n",
              "  </thead>\n",
              "  <tbody>\n",
              "    <tr>\n",
              "      <th>0</th>\n",
              "      <td>1</td>\n",
              "      <td>5.1</td>\n",
              "      <td>3.5</td>\n",
              "      <td>1.4</td>\n",
              "      <td>0.2</td>\n",
              "      <td>Iris-setosa</td>\n",
              "    </tr>\n",
              "    <tr>\n",
              "      <th>1</th>\n",
              "      <td>2</td>\n",
              "      <td>4.9</td>\n",
              "      <td>3.0</td>\n",
              "      <td>1.4</td>\n",
              "      <td>0.2</td>\n",
              "      <td>Iris-setosa</td>\n",
              "    </tr>\n",
              "  </tbody>\n",
              "</table>\n",
              "</div>"
            ],
            "text/plain": [
              "   Id  SepalLengthCm  SepalWidthCm  PetalLengthCm  PetalWidthCm      Species\n",
              "0   1            5.1           3.5            1.4           0.2  Iris-setosa\n",
              "1   2            4.9           3.0            1.4           0.2  Iris-setosa"
            ]
          },
          "metadata": {
            "tags": []
          },
          "execution_count": 57
        }
      ]
    },
    {
      "cell_type": "code",
      "metadata": {
        "colab": {
          "base_uri": "https://localhost:8080/"
        },
        "id": "ymcukcXtraoZ",
        "outputId": "5eb08947-3ce2-484e-d8ea-6a4c948d1995"
      },
      "source": [
        "iris.info() \n",
        "#to check inconsistency in the dataset\n",
        "#basically checks if there are any null values present in the dataset"
      ],
      "execution_count": 58,
      "outputs": [
        {
          "output_type": "stream",
          "text": [
            "<class 'pandas.core.frame.DataFrame'>\n",
            "RangeIndex: 150 entries, 0 to 149\n",
            "Data columns (total 6 columns):\n",
            " #   Column         Non-Null Count  Dtype  \n",
            "---  ------         --------------  -----  \n",
            " 0   Id             150 non-null    int64  \n",
            " 1   SepalLengthCm  150 non-null    float64\n",
            " 2   SepalWidthCm   150 non-null    float64\n",
            " 3   PetalLengthCm  150 non-null    float64\n",
            " 4   PetalWidthCm   150 non-null    float64\n",
            " 5   Species        150 non-null    object \n",
            "dtypes: float64(4), int64(1), object(1)\n",
            "memory usage: 7.2+ KB\n"
          ],
          "name": "stdout"
        }
      ]
    },
    {
      "cell_type": "code",
      "metadata": {
        "colab": {
          "base_uri": "https://localhost:8080/"
        },
        "id": "r7_P_bKlrop0",
        "outputId": "1aca3843-1583-46a9-d7ff-9ddb03884e0c"
      },
      "source": [
        "iris.keys() #gives names of the parameters of the dataset"
      ],
      "execution_count": 59,
      "outputs": [
        {
          "output_type": "execute_result",
          "data": {
            "text/plain": [
              "Index(['Id', 'SepalLengthCm', 'SepalWidthCm', 'PetalLengthCm', 'PetalWidthCm',\n",
              "       'Species'],\n",
              "      dtype='object')"
            ]
          },
          "metadata": {
            "tags": []
          },
          "execution_count": 59
        }
      ]
    },
    {
      "cell_type": "code",
      "metadata": {
        "id": "_toUXL__tRFc"
      },
      "source": [
        "iris.drop('Id',axis=1,inplace = True)  \n",
        "#dropping the unnecessory columns. mention the name of the axis -here id, then \n",
        "# the axis number, starts from 1, and inplace is used to make the official change to the dataset \n",
        "# iris.axis(1)"
      ],
      "execution_count": 60,
      "outputs": []
    },
    {
      "cell_type": "code",
      "metadata": {
        "colab": {
          "base_uri": "https://localhost:8080/",
          "height": 106
        },
        "id": "IM50ZZSftlmO",
        "outputId": "70126093-47c1-42a2-9f8b-0c9bc8f22949"
      },
      "source": [
        "iris.head(2)"
      ],
      "execution_count": 61,
      "outputs": [
        {
          "output_type": "execute_result",
          "data": {
            "text/html": [
              "<div>\n",
              "<style scoped>\n",
              "    .dataframe tbody tr th:only-of-type {\n",
              "        vertical-align: middle;\n",
              "    }\n",
              "\n",
              "    .dataframe tbody tr th {\n",
              "        vertical-align: top;\n",
              "    }\n",
              "\n",
              "    .dataframe thead th {\n",
              "        text-align: right;\n",
              "    }\n",
              "</style>\n",
              "<table border=\"1\" class=\"dataframe\">\n",
              "  <thead>\n",
              "    <tr style=\"text-align: right;\">\n",
              "      <th></th>\n",
              "      <th>SepalLengthCm</th>\n",
              "      <th>SepalWidthCm</th>\n",
              "      <th>PetalLengthCm</th>\n",
              "      <th>PetalWidthCm</th>\n",
              "      <th>Species</th>\n",
              "    </tr>\n",
              "  </thead>\n",
              "  <tbody>\n",
              "    <tr>\n",
              "      <th>0</th>\n",
              "      <td>5.1</td>\n",
              "      <td>3.5</td>\n",
              "      <td>1.4</td>\n",
              "      <td>0.2</td>\n",
              "      <td>Iris-setosa</td>\n",
              "    </tr>\n",
              "    <tr>\n",
              "      <th>1</th>\n",
              "      <td>4.9</td>\n",
              "      <td>3.0</td>\n",
              "      <td>1.4</td>\n",
              "      <td>0.2</td>\n",
              "      <td>Iris-setosa</td>\n",
              "    </tr>\n",
              "  </tbody>\n",
              "</table>\n",
              "</div>"
            ],
            "text/plain": [
              "   SepalLengthCm  SepalWidthCm  PetalLengthCm  PetalWidthCm      Species\n",
              "0            5.1           3.5            1.4           0.2  Iris-setosa\n",
              "1            4.9           3.0            1.4           0.2  Iris-setosa"
            ]
          },
          "metadata": {
            "tags": []
          },
          "execution_count": 61
        }
      ]
    },
    {
      "cell_type": "markdown",
      "metadata": {
        "id": "51lNu1mZwGrd"
      },
      "source": [
        "##exploratory data analysis with iris"
      ]
    },
    {
      "cell_type": "code",
      "metadata": {
        "id": "UBCjLC6OxX3K"
      },
      "source": [
        ""
      ],
      "execution_count": 61,
      "outputs": []
    },
    {
      "cell_type": "code",
      "metadata": {
        "colab": {
          "base_uri": "https://localhost:8080/",
          "height": 404
        },
        "id": "ajGFnh9HuLX1",
        "outputId": "14c01005-13d2-4649-e912-e5a9f78e9b9a"
      },
      "source": [
        "#basicially graphical vivualization of the data\n",
        "#printing a scatter plot\n",
        "\n",
        "                                                #sepal length vs sepal width\n",
        "\n",
        "fig = iris[iris.Species == 'Iris-setosa'].plot(kind='scatter', x='SepalLengthCm', y = 'SepalWidthCm', color='orange', label='setosa')\n",
        "\n",
        "fig = iris[iris.Species == 'Iris-versicolor'].plot(kind='scatter', x='SepalLengthCm', y = 'SepalWidthCm', color='blue', label='versicolor', ax=fig)\n",
        "\n",
        "fig = iris[iris.Species == 'Iris-virginica'].plot(kind='scatter', x='SepalLengthCm', y = 'SepalWidthCm', color='red', label='virginica', ax=fig)\n",
        "\n",
        "fig.set_xlabel(\"Sepal Length\")\n",
        "fig.set_ylabel(\"Sepal Width\")\n",
        "fig.set_title(\"Sepal Length VS sepal width\")\n",
        "fig=plt.gcf() #get current fig\n",
        "fig.set_size_inches(10,6)\n",
        "plt.show()"
      ],
      "execution_count": 62,
      "outputs": [
        {
          "output_type": "display_data",
          "data": {
            "image/png": "[encoded data removed]",
            "text/plain": [
              "<Figure size 720x432 with 1 Axes>"
            ]
          },
          "metadata": {
            "tags": [],
            "needs_background": "light"
          }
        }
      ]
    },
    {
      "cell_type": "code",
      "metadata": {
        "colab": {
          "base_uri": "https://localhost:8080/",
          "height": 404
        },
        "id": "KtN8hVT9uXOe",
        "outputId": "524a465e-081f-4fcd-ba68-3a764420fce3"
      },
      "source": [
        "                #  Petal Length VS  Petal width\n",
        "\n",
        "fig = iris[iris.Species == 'Iris-setosa'].plot(kind='scatter', x='PetalLengthCm', y = 'PetalWidthCm', color='orange', label='setosa')\n",
        "\n",
        "fig = iris[iris.Species == 'Iris-versicolor'].plot(kind='scatter', x='PetalLengthCm', y = 'PetalWidthCm', color='blue', label='versicolor', ax=fig)\n",
        "\n",
        "fig = iris[iris.Species == 'Iris-virginica'].plot(kind='scatter', x='PetalLengthCm', y = 'PetalWidthCm', color='red', label='virginica', ax=fig)\n",
        "\n",
        "fig.set_xlabel(\"Petal Length\")\n",
        "fig.set_ylabel(\"Petal Width\")\n",
        "fig.set_title(\"Petal Length VS  Petal width\")\n",
        "fig=plt.gcf() #get current fig\n",
        "fig.set_size_inches(10,6)\n",
        "plt.show()"
      ],
      "execution_count": 63,
      "outputs": [
        {
          "output_type": "display_data",
          "data": {
            "image/png": "[encoded data removed]",
            "text/plain": [
              "<Figure size 720x432 with 1 Axes>"
            ]
          },
          "metadata": {
            "tags": [],
            "needs_background": "light"
          }
        }
      ]
    },
    {
      "cell_type": "code",
      "metadata": {
        "colab": {
          "base_uri": "https://localhost:8080/",
          "height": 390
        },
        "id": "_U1JLLqpzg9W",
        "outputId": "11f478a5-a488-4f80-8c16-aced2f611466"
      },
      "source": [
        "# using historgraph to see how the length and width are distributed\n",
        "\n",
        "iris.hist(edgecolor='black', linewidth=1.2)\n",
        "fig = plt.gcf()\n",
        "fig.set_size_inches(12,6)\n",
        "plt.show()"
      ],
      "execution_count": 64,
      "outputs": [
        {
          "output_type": "display_data",
          "data": {
            "image/png": "[encoded data removed]",
            "text/plain": [
              "<Figure size 864x432 with 4 Axes>"
            ]
          },
          "metadata": {
            "tags": [],
            "needs_background": "light"
          }
        }
      ]
    },
    {
      "cell_type": "code",
      "metadata": {
        "id": "gT3qmWGVWmF0"
      },
      "source": [
        "from sklearn.linear_model import LogisticRegression\n",
        "from sklearn.model_selection import train_test_split\n",
        "from sklearn.neighbors import KNeighborsClassifier\n",
        "from sklearn import svm \n",
        "from sklearn import metrics #checking model accuracy \n",
        "from sklearn.tree import DecisionTreeClassifier"
      ],
      "execution_count": 67,
      "outputs": []
    },
    {
      "cell_type": "code",
      "metadata": {
        "colab": {
          "base_uri": "https://localhost:8080/"
        },
        "id": "X5xWlAUmX1LY",
        "outputId": "646004cb-4bf8-42da-a601-f0e0f90197e8"
      },
      "source": [
        "iris.shape"
      ],
      "execution_count": 68,
      "outputs": [
        {
          "output_type": "execute_result",
          "data": {
            "text/plain": [
              "(150, 5)"
            ]
          },
          "metadata": {
            "tags": []
          },
          "execution_count": 68
        }
      ]
    },
    {
      "cell_type": "code",
      "metadata": {
        "colab": {
          "base_uri": "https://localhost:8080/",
          "height": 286
        },
        "id": "g70xc804YTX2",
        "outputId": "f7da1b1b-1409-4f89-81f0-17fa50ef5f9f"
      },
      "source": [
        "# checking the data for correlation \n",
        "\n",
        "plt.figure(figsize=(7,4))\n",
        "sns.heatmap(iris.corr(), annot=True, cmap= 'cubehelix_r')\n",
        "#draws a heatmap with input as the correlation of the matrix calculated by the iris.corr()"
      ],
      "execution_count": 74,
      "outputs": [
        {
          "output_type": "execute_result",
          "data": {
            "text/plain": [
              "<matplotlib.axes._subplots.AxesSubplot at 0x7fdfd3274850>"
            ]
          },
          "metadata": {
            "tags": []
          },
          "execution_count": 74
        },
        {
          "output_type": "display_data",
          "data": {
            "image/png": "[encoded data removed]",
            "text/plain": [
              "<Figure size 504x288 with 2 Axes>"
            ]
          },
          "metadata": {
            "tags": [],
            "needs_background": "light"
          }
        }
      ]
    },
    {
      "cell_type": "markdown",
      "metadata": {
        "id": "RaPtFPyQaVw2"
      },
      "source": [
        "##Training the data\n"
      ]
    },
    {
      "cell_type": "code",
      "metadata": {
        "colab": {
          "base_uri": "https://localhost:8080/"
        },
        "id": "uS-OANXMZfve",
        "outputId": "e5cbd194-34b2-4b7e-fdb4-7d8913fd6abc"
      },
      "source": [
        "train, test = train_test_split(iris, test_size=None, train_size = 0.7)\n",
        "print(train.shape)\n",
        "print(test.shape)"
      ],
      "execution_count": 82,
      "outputs": [
        {
          "output_type": "stream",
          "text": [
            "(105, 5)\n",
            "(45, 5)\n"
          ],
          "name": "stdout"
        }
      ]
    },
    {
      "cell_type": "code",
      "metadata": {
        "id": "rVW9ZK5GaktW"
      },
      "source": [
        "train_X = train[['SepalLengthCm','SepalWidthCm','PetalLengthCm','PetalWidthCm']]\n",
        "train_y=train.Species\n",
        "test_X = test[['SepalLengthCm','SepalWidthCm','PetalLengthCm','PetalWidthCm']]\n",
        "test_y=test.Species\n"
      ],
      "execution_count": 88,
      "outputs": []
    },
    {
      "cell_type": "code",
      "metadata": {
        "colab": {
          "base_uri": "https://localhost:8080/",
          "height": 402
        },
        "id": "zCayjq0abm7F",
        "outputId": "db3e4f6f-3487-41ee-ae6d-16fb603ae17b"
      },
      "source": [
        "train_X.head(150)"
      ],
      "execution_count": 93,
      "outputs": [
        {
          "output_type": "execute_result",
          "data": {
            "text/html": [
              "<div>\n",
              "<style scoped>\n",
              "    .dataframe tbody tr th:only-of-type {\n",
              "        vertical-align: middle;\n",
              "    }\n",
              "\n",
              "    .dataframe tbody tr th {\n",
              "        vertical-align: top;\n",
              "    }\n",
              "\n",
              "    .dataframe thead th {\n",
              "        text-align: right;\n",
              "    }\n",
              "</style>\n",
              "<table border=\"1\" class=\"dataframe\">\n",
              "  <thead>\n",
              "    <tr style=\"text-align: right;\">\n",
              "      <th></th>\n",
              "      <th>SepalLengthCm</th>\n",
              "      <th>SepalWidthCm</th>\n",
              "      <th>PetalLengthCm</th>\n",
              "      <th>PetalWidthCm</th>\n",
              "    </tr>\n",
              "  </thead>\n",
              "  <tbody>\n",
              "    <tr>\n",
              "      <th>6</th>\n",
              "      <td>4.6</td>\n",
              "      <td>3.4</td>\n",
              "      <td>1.4</td>\n",
              "      <td>0.3</td>\n",
              "    </tr>\n",
              "    <tr>\n",
              "      <th>41</th>\n",
              "      <td>4.5</td>\n",
              "      <td>2.3</td>\n",
              "      <td>1.3</td>\n",
              "      <td>0.3</td>\n",
              "    </tr>\n",
              "    <tr>\n",
              "      <th>119</th>\n",
              "      <td>6.0</td>\n",
              "      <td>2.2</td>\n",
              "      <td>5.0</td>\n",
              "      <td>1.5</td>\n",
              "    </tr>\n",
              "    <tr>\n",
              "      <th>16</th>\n",
              "      <td>5.4</td>\n",
              "      <td>3.9</td>\n",
              "      <td>1.3</td>\n",
              "      <td>0.4</td>\n",
              "    </tr>\n",
              "    <tr>\n",
              "      <th>5</th>\n",
              "      <td>5.4</td>\n",
              "      <td>3.9</td>\n",
              "      <td>1.7</td>\n",
              "      <td>0.4</td>\n",
              "    </tr>\n",
              "    <tr>\n",
              "      <th>...</th>\n",
              "      <td>...</td>\n",
              "      <td>...</td>\n",
              "      <td>...</td>\n",
              "      <td>...</td>\n",
              "    </tr>\n",
              "    <tr>\n",
              "      <th>136</th>\n",
              "      <td>6.3</td>\n",
              "      <td>3.4</td>\n",
              "      <td>5.6</td>\n",
              "      <td>2.4</td>\n",
              "    </tr>\n",
              "    <tr>\n",
              "      <th>103</th>\n",
              "      <td>6.3</td>\n",
              "      <td>2.9</td>\n",
              "      <td>5.6</td>\n",
              "      <td>1.8</td>\n",
              "    </tr>\n",
              "    <tr>\n",
              "      <th>131</th>\n",
              "      <td>7.9</td>\n",
              "      <td>3.8</td>\n",
              "      <td>6.4</td>\n",
              "      <td>2.0</td>\n",
              "    </tr>\n",
              "    <tr>\n",
              "      <th>73</th>\n",
              "      <td>6.1</td>\n",
              "      <td>2.8</td>\n",
              "      <td>4.7</td>\n",
              "      <td>1.2</td>\n",
              "    </tr>\n",
              "    <tr>\n",
              "      <th>57</th>\n",
              "      <td>4.9</td>\n",
              "      <td>2.4</td>\n",
              "      <td>3.3</td>\n",
              "      <td>1.0</td>\n",
              "    </tr>\n",
              "  </tbody>\n",
              "</table>\n",
              "<p>105 rows × 4 columns</p>\n",
              "</div>"
            ],
            "text/plain": [
              "     SepalLengthCm  SepalWidthCm  PetalLengthCm  PetalWidthCm\n",
              "6              4.6           3.4            1.4           0.3\n",
              "41             4.5           2.3            1.3           0.3\n",
              "119            6.0           2.2            5.0           1.5\n",
              "16             5.4           3.9            1.3           0.4\n",
              "5              5.4           3.9            1.7           0.4\n",
              "..             ...           ...            ...           ...\n",
              "136            6.3           3.4            5.6           2.4\n",
              "103            6.3           2.9            5.6           1.8\n",
              "131            7.9           3.8            6.4           2.0\n",
              "73             6.1           2.8            4.7           1.2\n",
              "57             4.9           2.4            3.3           1.0\n",
              "\n",
              "[105 rows x 4 columns]"
            ]
          },
          "metadata": {
            "tags": []
          },
          "execution_count": 93
        }
      ]
    },
    {
      "cell_type": "code",
      "metadata": {
        "colab": {
          "base_uri": "https://localhost:8080/",
          "height": 195
        },
        "id": "JrG05_sjcQ9i",
        "outputId": "9c697a76-bd25-49db-abdf-178447486126"
      },
      "source": [
        "test_X.head()"
      ],
      "execution_count": 96,
      "outputs": [
        {
          "output_type": "execute_result",
          "data": {
            "text/html": [
              "<div>\n",
              "<style scoped>\n",
              "    .dataframe tbody tr th:only-of-type {\n",
              "        vertical-align: middle;\n",
              "    }\n",
              "\n",
              "    .dataframe tbody tr th {\n",
              "        vertical-align: top;\n",
              "    }\n",
              "\n",
              "    .dataframe thead th {\n",
              "        text-align: right;\n",
              "    }\n",
              "</style>\n",
              "<table border=\"1\" class=\"dataframe\">\n",
              "  <thead>\n",
              "    <tr style=\"text-align: right;\">\n",
              "      <th></th>\n",
              "      <th>SepalLengthCm</th>\n",
              "      <th>SepalWidthCm</th>\n",
              "      <th>PetalLengthCm</th>\n",
              "      <th>PetalWidthCm</th>\n",
              "    </tr>\n",
              "  </thead>\n",
              "  <tbody>\n",
              "    <tr>\n",
              "      <th>115</th>\n",
              "      <td>6.4</td>\n",
              "      <td>3.2</td>\n",
              "      <td>5.3</td>\n",
              "      <td>2.3</td>\n",
              "    </tr>\n",
              "    <tr>\n",
              "      <th>52</th>\n",
              "      <td>6.9</td>\n",
              "      <td>3.1</td>\n",
              "      <td>4.9</td>\n",
              "      <td>1.5</td>\n",
              "    </tr>\n",
              "    <tr>\n",
              "      <th>23</th>\n",
              "      <td>5.1</td>\n",
              "      <td>3.3</td>\n",
              "      <td>1.7</td>\n",
              "      <td>0.5</td>\n",
              "    </tr>\n",
              "    <tr>\n",
              "      <th>142</th>\n",
              "      <td>5.8</td>\n",
              "      <td>2.7</td>\n",
              "      <td>5.1</td>\n",
              "      <td>1.9</td>\n",
              "    </tr>\n",
              "    <tr>\n",
              "      <th>47</th>\n",
              "      <td>4.6</td>\n",
              "      <td>3.2</td>\n",
              "      <td>1.4</td>\n",
              "      <td>0.2</td>\n",
              "    </tr>\n",
              "  </tbody>\n",
              "</table>\n",
              "</div>"
            ],
            "text/plain": [
              "     SepalLengthCm  SepalWidthCm  PetalLengthCm  PetalWidthCm\n",
              "115            6.4           3.2            5.3           2.3\n",
              "52             6.9           3.1            4.9           1.5\n",
              "23             5.1           3.3            1.7           0.5\n",
              "142            5.8           2.7            5.1           1.9\n",
              "47             4.6           3.2            1.4           0.2"
            ]
          },
          "metadata": {
            "tags": []
          },
          "execution_count": 96
        }
      ]
    },
    {
      "cell_type": "code",
      "metadata": {
        "colab": {
          "base_uri": "https://localhost:8080/"
        },
        "id": "DOAjXDdrcUsP",
        "outputId": "b01db0f5-3eda-4168-a308-b71c92d72247"
      },
      "source": [
        "test_y.head()\n"
      ],
      "execution_count": 97,
      "outputs": [
        {
          "output_type": "execute_result",
          "data": {
            "text/plain": [
              "115     Iris-virginica\n",
              "52     Iris-versicolor\n",
              "23         Iris-setosa\n",
              "142     Iris-virginica\n",
              "47         Iris-setosa\n",
              "Name: Species, dtype: object"
            ]
          },
          "metadata": {
            "tags": []
          },
          "execution_count": 97
        }
      ]
    },
    {
      "cell_type": "markdown",
      "metadata": {
        "id": "_dC7l1J5fRSM"
      },
      "source": [
        "##SUPPORT VECTOR MACHINE SVM\n"
      ]
    },
    {
      "cell_type": "code",
      "metadata": {
        "colab": {
          "base_uri": "https://localhost:8080/"
        },
        "id": "1JMZWPTNcj__",
        "outputId": "1e739c3b-f0a1-489a-ad72-e8d601e88aa1"
      },
      "source": [
        "model = svm.SVC() #selecting the algo, naming it as our model\n",
        "\n",
        "\n",
        "model.fit(train_X, train_y) #training the algo with the training data - x and the training output - y\n",
        "#  here the algo is trained by the above statement\n",
        "\n",
        "prediction = model.predict(test_X) #passing the testing data to the trained algo \n",
        "\n",
        "print('the accuracy of the SVM model is :', metrics.accuracy_score(prediction,test_y))\n",
        "#checking the accuracy of the algo \n"
      ],
      "execution_count": 98,
      "outputs": [
        {
          "output_type": "stream",
          "text": [
            "the accuracy of the SVM model is : 0.9333333333333333\n"
          ],
          "name": "stdout"
        }
      ]
    },
    {
      "cell_type": "code",
      "metadata": {
        "colab": {
          "base_uri": "https://localhost:8080/"
        },
        "id": "fwoNrxdJgbuV",
        "outputId": "92eca0c7-da29-41b4-e5aa-cbb73d68501a"
      },
      "source": [
        "test_y.head()"
      ],
      "execution_count": 99,
      "outputs": [
        {
          "output_type": "execute_result",
          "data": {
            "text/plain": [
              "115     Iris-virginica\n",
              "52     Iris-versicolor\n",
              "23         Iris-setosa\n",
              "142     Iris-virginica\n",
              "47         Iris-setosa\n",
              "Name: Species, dtype: object"
            ]
          },
          "metadata": {
            "tags": []
          },
          "execution_count": 99
        }
      ]
    },
    {
      "cell_type": "markdown",
      "metadata": {
        "id": "-gbg99DhgjTv"
      },
      "source": [
        "##Decision Tree"
      ]
    },
    {
      "cell_type": "code",
      "metadata": {
        "colab": {
          "base_uri": "https://localhost:8080/"
        },
        "id": "CArIDC-gge2D",
        "outputId": "7a138488-2622-436f-9168-e49a806116cd"
      },
      "source": [
        "model = DecisionTreeClassifier()\n",
        "model.fit(train_X, train_y)\n",
        "prediction = model.predict(test_X)\n",
        "print('the accuracy of the decision tree model is :', metrics.accuracy_score(prediction,test_y))"
      ],
      "execution_count": 100,
      "outputs": [
        {
          "output_type": "stream",
          "text": [
            "the accuracy of the decision tree model is : 0.9777777777777777\n"
          ],
          "name": "stdout"
        }
      ]
    },
    {
      "cell_type": "markdown",
      "metadata": {
        "id": "EvKuQ-N6g88C"
      },
      "source": [
        "## K-nearest Neighbours"
      ]
    },
    {
      "cell_type": "code",
      "metadata": {
        "colab": {
          "base_uri": "https://localhost:8080/"
        },
        "id": "8s3M0dABg8o2",
        "outputId": "5208af41-dcae-4444-de46-9031be828de8"
      },
      "source": [
        "model = KNeighborsClassifier(n_neighbors=3)\n",
        "model.fit(train_X, train_y)\n",
        "prediction = model.predict(test_X)\n",
        "print('the accuracy of the KNN model is :', metrics.accuracy_score(prediction,test_y))"
      ],
      "execution_count": 108,
      "outputs": [
        {
          "output_type": "stream",
          "text": [
            "the accuracy of the KNN model is : 0.9777777777777777\n"
          ],
          "name": "stdout"
        }
      ]
    },
    {
      "cell_type": "code",
      "metadata": {
        "colab": {
          "base_uri": "https://localhost:8080/",
          "height": 503
        },
        "id": "AOREDtaDg5DD",
        "outputId": "ad4eb7d9-6187-46b7-ec07-ec88494c8328"
      },
      "source": [
        "a_index = list(range(1,11))\n",
        "a=pd.Series()\n",
        "x=[1,2,3,4,5,6,7,8,9,10]\n",
        "\n",
        "for i in list(range(1,11)):\n",
        "  model = KNeighborsClassifier(n_neighbors=i)\n",
        "  model.fit(train_X,train_y)\n",
        "  prediction=model.predict(test_X)\n",
        "  a=a.append(pd.Series(metrics.accuracy_score(prediction,test_y)))\n",
        "\n",
        "\n",
        "plt.plot(a_index,a)\n",
        "plt.xticks(x) #get the location of the tick at that state, in the loop "
      ],
      "execution_count": 109,
      "outputs": [
        {
          "output_type": "stream",
          "text": [
            "/usr/local/lib/python3.7/dist-packages/ipykernel_launcher.py:2: DeprecationWarning: The default dtype for empty Series will be 'object' instead of 'float64' in a future version. Specify a dtype explicitly to silence this warning.\n",
            "  \n"
          ],
          "name": "stderr"
        },
        {
          "output_type": "execute_result",
          "data": {
            "text/plain": [
              "([<matplotlib.axis.XTick at 0x7fdfd307cf10>,\n",
              "  <matplotlib.axis.XTick at 0x7fdfd307cdd0>,\n",
              "  <matplotlib.axis.XTick at 0x7fdfd307c8d0>,\n",
              "  <matplotlib.axis.XTick at 0x7fdfe01dac10>,\n",
              "  <matplotlib.axis.XTick at 0x7fdfe0e9b210>,\n",
              "  <matplotlib.axis.XTick at 0x7fdfdc07d0d0>,\n",
              "  <matplotlib.axis.XTick at 0x7fdfdb480f90>,\n",
              "  <matplotlib.axis.XTick at 0x7fdfdb480c90>,\n",
              "  <matplotlib.axis.XTick at 0x7fdfdb4809d0>,\n",
              "  <matplotlib.axis.XTick at 0x7fdfdb48ea90>],\n",
              " <a list of 10 Text major ticklabel objects>)"
            ]
          },
          "metadata": {
            "tags": []
          },
          "execution_count": 109
        },
        {
          "output_type": "display_data",
          "data": {
            "image/png": "[encoded data removed]",
            "text/plain": [
              "<Figure size 432x288 with 1 Axes>"
            ]
          },
          "metadata": {
            "tags": [],
            "needs_background": "light"
          }
        }
      ]
    },
    {
      "cell_type": "markdown",
      "metadata": {
        "id": "x-JCXloIntR_"
      },
      "source": [
        "##splitting the data into petal length and sepal"
      ]
    },
    {
      "cell_type": "code",
      "metadata": {
        "id": "tdrH0fGAklsu"
      },
      "source": [
        "petal = iris[['PetalLengthCm','PetalWidthCm','Species']]\n",
        "sepal = iris[['','Species']]\n",
        "\n"
      ],
      "execution_count": 114,
      "outputs": []
    },
    {
      "cell_type": "code",
      "metadata": {
        "id": "VQLBEABPpum3"
      },
      "source": [
        "train_p, test_p = train_test_split(petal, test_size=0.3, random_state=0)\n",
        "\n",
        "train_x_p= train_p[['PetalLengthCm','PetalWidthCm']]\n",
        "train_y_p= train_p.Species\n",
        "\n",
        "test_x_p= test_p[['PetalLengthCm','PetalWidthCm']]\n",
        "test_y_p= test_p.Species\n",
        "\n"
      ],
      "execution_count": 118,
      "outputs": []
    },
    {
      "cell_type": "code",
      "metadata": {
        "id": "ONShIT7BsDew"
      },
      "source": [
        "train_s, test_s = train_test_split(sepal, test_size=0.3, random_state=0)\n",
        "\n",
        "train_x_s= train_s[['SepalLengthCm','SepalWidthCm']]\n",
        "train_y_s= train_s.Species\n",
        "\n",
        "test_x_s= test_s[['SepalLengthCm','SepalWidthCm']]\n",
        "test_y_s= test_s.Species\n"
      ],
      "execution_count": 117,
      "outputs": []
    },
    {
      "cell_type": "code",
      "metadata": {
        "colab": {
          "base_uri": "https://localhost:8080/"
        },
        "id": "tSTMD4V5sf0Q",
        "outputId": "ff6aa33e-7228-4bba-c28b-ff8ba01841ce"
      },
      "source": [
        "model = svm.SVC()\n",
        "\n",
        "model.fit(train_x_p,train_y_p)\n",
        "prediction = model.predict(test_x_p)\n",
        "print(\"accuracy of SVM using Petal is \", metrics.accuracy_score(prediction,test_y_p))\n",
        "\n",
        "model = svm.SVC()\n",
        "\n",
        "model.fit(train_x_s,train_y_s)\n",
        "prediction = model.predict(test_x_s)\n",
        "print(\"accuracy of SVM using Sepal is \", metrics.accuracy_score(prediction,test_y_s))"
      ],
      "execution_count": 121,
      "outputs": [
        {
          "output_type": "stream",
          "text": [
            "accuracy of SVM using Petal is  0.9777777777777777\n",
            "accuracy of SVM using Sepal is  0.8\n"
          ],
          "name": "stdout"
        }
      ]
    },
    {
      "cell_type": "code",
      "metadata": {
        "id": "h47y2fSetsVL"
      },
      "source": [
        "#this shows that the petals data is more correlated and better to use as seen by the heatmap\n",
        "#this is why we use the heatmap to check the correlation using the iris.corr "
      ],
      "execution_count": 122,
      "outputs": []
    },
    {
      "cell_type": "code",
      "metadata": {
        "id": "5uKOfbtduOT-"
      },
      "source": [
        ""
      ],
      "execution_count": null,
      "outputs": []
    }
  ]
}